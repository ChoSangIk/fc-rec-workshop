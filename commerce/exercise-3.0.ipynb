{
 "cells": [
  {
   "cell_type": "markdown",
   "metadata": {},
   "source": [
    "# Connect to Postgresql\n",
    "Import packages"
   ]
  },
  {
   "cell_type": "code",
   "execution_count": 1,
   "metadata": {
    "collapsed": true
   },
   "outputs": [],
   "source": [
    "import psycopg2\n",
    "import psycopg2.extras\n",
    "from IPython.display import Image, display, HTML"
   ]
  },
  {
   "cell_type": "markdown",
   "metadata": {},
   "source": [
    "### Define Utility Functions"
   ]
  },
  {
   "cell_type": "markdown",
   "metadata": {},
   "source": [
    "Define a function for displaying item images"
   ]
  },
  {
   "cell_type": "code",
   "execution_count": 2,
   "metadata": {
    "collapsed": true
   },
   "outputs": [],
   "source": [
    "def displayImageUrls(urls):\n",
    "    html = \"\"\n",
    "    for url in urls:\n",
    "        html += \"<img src='\" + url + \"' width='95' style='display:inline-block'>\"\n",
    "    display(HTML(html))"
   ]
  },
  {
   "cell_type": "markdown",
   "metadata": {},
   "source": [
    "Assume the query returns results that include 'item_image' and add the url to images."
   ]
  },
  {
   "cell_type": "code",
   "execution_count": 3,
   "metadata": {
    "collapsed": true
   },
   "outputs": [],
   "source": [
    "def getImageUrls(conn, query):\n",
    "    images = []\n",
    "    with conn:\n",
    "        with conn.cursor(cursor_factory=psycopg2.extras.DictCursor) as cursor:\n",
    "            cursor.execute(query)\n",
    "            for record in cursor:\n",
    "                images.append(dict(record)['item_image'])\n",
    "    return images"
   ]
  },
  {
   "cell_type": "markdown",
   "metadata": {},
   "source": [
    "Connecto to local db"
   ]
  },
  {
   "cell_type": "code",
   "execution_count": 4,
   "metadata": {
    "collapsed": true
   },
   "outputs": [],
   "source": [
    "conn = psycopg2.connect(\"dbname=fcrec user=fcuser password=fcuser123\")"
   ]
  },
  {
   "cell_type": "markdown",
   "metadata": {},
   "source": [
    "# Show Items\n",
    "## Random Items"
   ]
  },
  {
   "cell_type": "code",
   "execution_count": 5,
   "metadata": {},
   "outputs": [
    {
     "data": {
      "text/html": [
       "<img src='http://fc-img.recobell.io/images/goods/817/12173817_h.jpg' width='95' style='display:inline-block'><img src='http://fc-img.recobell.io/images/goods/218/12306218_h.jpg' width='95' style='display:inline-block'><img src='http://fc-img.recobell.io/images/goods/619/12292619_h.jpg' width='95' style='display:inline-block'><img src='http://fc-img.recobell.io/images/goods/292/12265292_h.jpg' width='95' style='display:inline-block'><img src='http://fc-img.recobell.io/images/goods/736/12302736_h.jpg' width='95' style='display:inline-block'><img src='http://fc-img.recobell.io/images/goods/635/12295635_h.jpg' width='95' style='display:inline-block'><img src='http://fc-img.recobell.io/images/goods/068/11337068_h.jpg' width='95' style='display:inline-block'><img src='http://fc-img.recobell.io/images/goods/061/12364061_h.jpg' width='95' style='display:inline-block'><img src='http://fc-img.recobell.io/images/goods/676/12171676_h.jpg' width='95' style='display:inline-block'><img src='http://fc-img.recobell.io/images/goods/421/12192421_h.jpg' width='95' style='display:inline-block'><img src='http://fc-img.recobell.io/images/goods/466/12141466_h.jpg' width='95' style='display:inline-block'><img src='http://fc-img.recobell.io/images/goods/851/11968851_h.jpg' width='95' style='display:inline-block'><img src='http://fc-img.recobell.io/images/goods/365/10860365_h.jpg' width='95' style='display:inline-block'><img src='http://fc-img.recobell.io/images/goods/920/10480920_h.jpg' width='95' style='display:inline-block'><img src='http://fc-img.recobell.io/images/goods/808/11231808_h.jpg' width='95' style='display:inline-block'><img src='http://fc-img.recobell.io/images/goods/280/12220280_h.jpg' width='95' style='display:inline-block'><img src='http://fc-img.recobell.io/images/goods/540/11325540_h.jpg' width='95' style='display:inline-block'><img src='http://fc-img.recobell.io/images/goods/894/10003894_h.jpg' width='95' style='display:inline-block'><img src='http://fc-img.recobell.io/images/goods/525/12214525_h.jpg' width='95' style='display:inline-block'><img src='http://fc-img.recobell.io/images/goods/007/11268007_h.jpg' width='95' style='display:inline-block'>"
      ],
      "text/plain": [
       "<IPython.core.display.HTML object>"
      ]
     },
     "metadata": {},
     "output_type": "display_data"
    }
   ],
   "source": [
    "query = '''\n",
    "select item_id, item_image, price, category1, category2, category3, category4, brand\n",
    "from site_product \n",
    "limit 20 offset 10;\n",
    "'''\n",
    "\n",
    "displayImageUrls(getImageUrls(conn, query))"
   ]
  },
  {
   "cell_type": "markdown",
   "metadata": {},
   "source": [
    "## User's Viewed Items"
   ]
  },
  {
   "cell_type": "code",
   "execution_count": 6,
   "metadata": {},
   "outputs": [
    {
     "data": {
      "text/html": [
       "<img src='http://fc-img.recobell.io/images/goods/362/12407362_h.jpg' width='95' style='display:inline-block'><img src='http://fc-img.recobell.io/images/goods/936/12415936_h.jpg' width='95' style='display:inline-block'><img src='http://fc-img.recobell.io/images/goods/387/12393387_h.jpg' width='95' style='display:inline-block'><img src='http://fc-img.recobell.io/images/goods/962/12312962_h.jpg' width='95' style='display:inline-block'><img src='http://fc-img.recobell.io/images/goods/703/12243703_h.jpg' width='95' style='display:inline-block'><img src='http://fc-img.recobell.io/images/goods/476/10249476_h.jpg' width='95' style='display:inline-block'><img src='http://fc-img.recobell.io/images/goods/609/12280609_h.jpg' width='95' style='display:inline-block'><img src='http://fc-img.recobell.io/images/goods/504/12379504_h.jpg' width='95' style='display:inline-block'><img src='http://fc-img.recobell.io/images/goods/504/12379504_h.jpg' width='95' style='display:inline-block'><img src='http://fc-img.recobell.io/images/goods/505/12379505_h.jpg' width='95' style='display:inline-block'><img src='http://fc-img.recobell.io/images/goods/505/12379505_h.jpg' width='95' style='display:inline-block'><img src='http://fc-img.recobell.io/images/goods/504/12379504_h.jpg' width='95' style='display:inline-block'><img src='http://fc-img.recobell.io/images/goods/153/12344153_h.jpg' width='95' style='display:inline-block'><img src='http://fc-img.recobell.io/images/goods/473/10249473_h.jpg' width='95' style='display:inline-block'><img src='http://fc-img.recobell.io/images/goods/473/10249473_h.jpg' width='95' style='display:inline-block'><img src='http://fc-img.recobell.io/images/goods/307/12116307_h.jpg' width='95' style='display:inline-block'><img src='http://fc-img.recobell.io/images/goods/473/10249473_h.jpg' width='95' style='display:inline-block'><img src='http://fc-img.recobell.io/images/goods/962/12312962_h.jpg' width='95' style='display:inline-block'><img src='http://fc-img.recobell.io/images/goods/362/12407362_h.jpg' width='95' style='display:inline-block'><img src='http://fc-img.recobell.io/images/goods/905/11492905_h.jpg' width='95' style='display:inline-block'>"
      ],
      "text/plain": [
       "<IPython.core.display.HTML object>"
      ]
     },
     "metadata": {},
     "output_type": "display_data"
    }
   ],
   "source": [
    "query = '''\n",
    "select t1.server_time server_time, t1.session_id session_id, t1.item_id item_id, t2.item_image item_image\n",
    "from view_log t1\n",
    "    join product t2 on t2.item_id = t1.item_id\n",
    "where uid = '00bb485'\n",
    "order by server_time asc\n",
    "'''\n",
    "\n",
    "displayImageUrls(getImageUrls(conn, query))"
   ]
  },
  {
   "cell_type": "markdown",
   "metadata": {},
   "source": [
    "## Most Popular Category Items"
   ]
  },
  {
   "cell_type": "code",
   "execution_count": 7,
   "metadata": {},
   "outputs": [
    {
     "data": {
      "text/html": [
       "<img src='http://fc-img.recobell.io/images/goods/736/12412736_h.jpg' width='95' style='display:inline-block'><img src='http://fc-img.recobell.io/images/goods/692/12388692_h.jpg' width='95' style='display:inline-block'><img src='http://fc-img.recobell.io/images/goods/594/12397594_h.jpg' width='95' style='display:inline-block'><img src='http://fc-img.recobell.io/images/goods/683/12394683_h.jpg' width='95' style='display:inline-block'><img src='http://fc-img.recobell.io/images/goods/453/12407453_h.jpg' width='95' style='display:inline-block'><img src='http://fc-img.recobell.io/images/goods/849/12384849_h.jpg' width='95' style='display:inline-block'><img src='http://fc-img.recobell.io/images/goods/127/12395127_h.jpg' width='95' style='display:inline-block'><img src='http://fc-img.recobell.io/images/goods/974/12418974_h.jpg' width='95' style='display:inline-block'><img src='http://fc-img.recobell.io/images/goods/818/12384818_h.jpg' width='95' style='display:inline-block'><img src='http://fc-img.recobell.io/images/goods/043/12381043_h.jpg' width='95' style='display:inline-block'><img src='http://fc-img.recobell.io/images/goods/675/12400675_h.png' width='95' style='display:inline-block'><img src='http://fc-img.recobell.io/images/goods/654/12403654_h.jpg' width='95' style='display:inline-block'><img src='http://fc-img.recobell.io/images/goods/912/11866912_h.jpg' width='95' style='display:inline-block'><img src='http://fc-img.recobell.io/images/goods/651/12413651_h.jpg' width='95' style='display:inline-block'><img src='http://fc-img.recobell.io/images/goods/304/12383304_h.jpg' width='95' style='display:inline-block'><img src='http://fc-img.recobell.io/images/goods/506/12384506_h.jpg' width='95' style='display:inline-block'><img src='http://fc-img.recobell.io/images/goods/999/12411999_h.jpg' width='95' style='display:inline-block'><img src='http://fc-img.recobell.io/images/goods/018/12406018_h.jpg' width='95' style='display:inline-block'><img src='http://fc-img.recobell.io/images/goods/015/12412015_h.jpg' width='95' style='display:inline-block'><img src='http://fc-img.recobell.io/images/goods/857/12425857_h.jpg' width='95' style='display:inline-block'>"
      ],
      "text/plain": [
       "<IPython.core.display.HTML object>"
      ]
     },
     "metadata": {},
     "output_type": "display_data"
    }
   ],
   "source": [
    "query = '''\n",
    "select t1.item_id, t2.item_image, count(*) cnt\n",
    "from view_log t1\n",
    "    join product t2 on t2.item_id = t1.item_id\n",
    "where t2.category3 = '301f675'\n",
    "group by t1.item_id, t2.item_image\n",
    "order by cnt desc\n",
    "limit 20;\n",
    "'''\n",
    "\n",
    "displayImageUrls(getImageUrls(conn, query))"
   ]
  },
  {
   "cell_type": "markdown",
   "metadata": {},
   "source": [
    "Close the connection"
   ]
  },
  {
   "cell_type": "code",
   "execution_count": 8,
   "metadata": {
    "collapsed": true
   },
   "outputs": [],
   "source": [
    "conn.close()"
   ]
  }
 ],
 "metadata": {
  "kernelspec": {
   "display_name": "Python 3",
   "language": "python",
   "name": "python3"
  },
  "language_info": {
   "codemirror_mode": {
    "name": "ipython",
    "version": 3
   },
   "file_extension": ".py",
   "mimetype": "text/x-python",
   "name": "python",
   "nbconvert_exporter": "python",
   "pygments_lexer": "ipython3",
   "version": "3.6.2"
  }
 },
 "nbformat": 4,
 "nbformat_minor": 2
}
