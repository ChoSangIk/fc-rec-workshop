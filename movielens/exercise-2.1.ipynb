{
 "cells": [
  {
   "cell_type": "markdown",
   "metadata": {},
   "source": [
    "# Example Items\n",
    "These are sample items we are going to handle in this exercise."
   ]
  },
  {
   "attachments": {
    "image.png": {
     "image/png": "[encoded data removed]"
    }
   },
   "cell_type": "markdown",
   "metadata": {},
   "source": [
    "![image.png](attachment:image.png)"
   ]
  },
  {
   "cell_type": "markdown",
   "metadata": {},
   "source": [
    "Import necessary required packages for the exercise."
   ]
  },
  {
   "cell_type": "code",
   "execution_count": 1,
   "metadata": {
    "collapsed": true
   },
   "outputs": [],
   "source": [
    "import math\n",
    "import numpy as np"
   ]
  },
  {
   "cell_type": "markdown",
   "metadata": {},
   "source": [
    "Set numpy priting options for pretty array priting."
   ]
  },
  {
   "cell_type": "code",
   "execution_count": 2,
   "metadata": {
    "collapsed": true
   },
   "outputs": [],
   "source": [
    "np.set_printoptions(precision=2, linewidth=120)"
   ]
  },
  {
   "cell_type": "markdown",
   "metadata": {},
   "source": [
    "# Item Similarity"
   ]
  },
  {
   "cell_type": "markdown",
   "metadata": {},
   "source": [
    "### Weight Matrix\n",
    "Create a binary valued matrix that holds the item's genre accurance in each cell."
   ]
  },
  {
   "cell_type": "code",
   "execution_count": 3,
   "metadata": {},
   "outputs": [
    {
     "name": "stdout",
     "output_type": "stream",
     "text": [
      "Items : 11\n",
      "Genres: 8\n"
     ]
    }
   ],
   "source": [
    "matrix = np.array([\n",
    "    [0, 1, 0, 0, 0, 0, 0, 0],\n",
    "    [1, 0, 1, 0, 0, 0, 0, 1],\n",
    "    [0, 1, 0, 0, 1, 0, 0, 0],\n",
    "    [1, 0, 0, 0, 0, 0, 0, 0],\n",
    "    [0, 0, 0, 1, 0, 0, 0, 0],\n",
    "    [0, 0, 0, 1, 1, 0, 0, 0],\n",
    "    [0, 1, 0, 0, 0, 0, 0, 0],\n",
    "    [0, 0, 0, 1, 1, 0, 0, 0],\n",
    "    [0, 0, 0, 0, 0, 1, 1, 1],\n",
    "    [0, 0, 1, 1, 0, 0, 0, 0],\n",
    "    [0, 1, 0, 1, 1, 0, 0, 0]\n",
    "])\n",
    "print(\"Items :\",matrix.shape[0])\n",
    "print(\"Genres:\",matrix.shape[1])"
   ]
  },
  {
   "cell_type": "markdown",
   "metadata": {},
   "source": [
    "Create a matrix that will hold weights for all items.\n",
    "\n",
    "We will compute weights by TF-IDF scheme.\n",
    "* We will use 1 for TF of each genre in items.\n",
    "* We will compute IDFs for genres and assign them in column-wise manner."
   ]
  },
  {
   "cell_type": "code",
   "execution_count": 4,
   "metadata": {
    "collapsed": true
   },
   "outputs": [],
   "source": [
    "totalItems = matrix.shape[0]\n",
    "totalGenres = matrix.shape[1]\n",
    "\n",
    "weights = np.zeros(matrix.shape)\n",
    "\n",
    "for i in range(0, totalGenres):\n",
    "    col = matrix[:,i]\n",
    "    idf = math.log10(totalItems/col.sum())\n",
    "    for j in range(0, totalItems):\n",
    "        weights[j, i] = matrix[j, i] * idf"
   ]
  },
  {
   "cell_type": "markdown",
   "metadata": {},
   "source": [
    "See the weights."
   ]
  },
  {
   "cell_type": "code",
   "execution_count": 5,
   "metadata": {},
   "outputs": [
    {
     "data": {
      "text/plain": [
       "array([[ 0.  ,  0.44,  0.  ,  0.  ,  0.  ,  0.  ,  0.  ,  0.  ],\n",
       "       [ 0.74,  0.  ,  0.74,  0.  ,  0.  ,  0.  ,  0.  ,  0.74],\n",
       "       [ 0.  ,  0.44,  0.  ,  0.  ,  0.44,  0.  ,  0.  ,  0.  ],\n",
       "       [ 0.74,  0.  ,  0.  ,  0.  ,  0.  ,  0.  ,  0.  ,  0.  ],\n",
       "       [ 0.  ,  0.  ,  0.  ,  0.34,  0.  ,  0.  ,  0.  ,  0.  ],\n",
       "       [ 0.  ,  0.  ,  0.  ,  0.34,  0.44,  0.  ,  0.  ,  0.  ],\n",
       "       [ 0.  ,  0.44,  0.  ,  0.  ,  0.  ,  0.  ,  0.  ,  0.  ],\n",
       "       [ 0.  ,  0.  ,  0.  ,  0.34,  0.44,  0.  ,  0.  ,  0.  ],\n",
       "       [ 0.  ,  0.  ,  0.  ,  0.  ,  0.  ,  1.04,  1.04,  0.74],\n",
       "       [ 0.  ,  0.  ,  0.74,  0.34,  0.  ,  0.  ,  0.  ,  0.  ],\n",
       "       [ 0.  ,  0.44,  0.  ,  0.34,  0.44,  0.  ,  0.  ,  0.  ]])"
      ]
     },
     "execution_count": 5,
     "metadata": {},
     "output_type": "execute_result"
    }
   ],
   "source": [
    "weights"
   ]
  },
  {
   "cell_type": "markdown",
   "metadata": {},
   "source": [
    "### $l_2$-norm\n",
    "Let's define norm2 function for computing l2-norm of a vector, which is represented as an array in np.\n",
    "\n",
    "$$norm2(v)=||v||_2=\\sqrt{\\sum_{\\forall i}v_i^2}$$"
   ]
  },
  {
   "cell_type": "code",
   "execution_count": 6,
   "metadata": {
    "collapsed": true
   },
   "outputs": [],
   "source": [
    "def norm2(arr):\n",
    "    sum = 0.0\n",
    "    for i in range(0, len(arr)):\n",
    "        sum += arr[i] * arr[i]\n",
    "    return math.sqrt(sum)"
   ]
  },
  {
   "cell_type": "code",
   "execution_count": 7,
   "metadata": {},
   "outputs": [
    {
     "name": "stdout",
     "output_type": "stream",
     "text": [
      "[ 0.    0.44  0.    0.    0.    0.    0.    0.  ] => 0.43933269383026263\n",
      "[ 0.74  0.    0.74  0.    0.    0.    0.    0.74] => 1.282345794232371\n"
     ]
    }
   ],
   "source": [
    "print(weights[0],\"=>\",norm2(weights[0]))\n",
    "print(weights[1],\"=>\",norm2(weights[1]))"
   ]
  },
  {
   "cell_type": "markdown",
   "metadata": {},
   "source": [
    "### Inner Product\n",
    "\n",
    "Let's define dot function for computin inner product between two vectors.\n",
    "\n",
    "$$dot(u, v)=u\\cdot v=\\sum_{\\forall i}{u_i \\times v_i}$$"
   ]
  },
  {
   "cell_type": "code",
   "execution_count": 8,
   "metadata": {
    "collapsed": true
   },
   "outputs": [],
   "source": [
    "def dot(arr1, arr2):\n",
    "    sum = 0.0\n",
    "    for i in range(0, len(arr1)):\n",
    "        sum += arr1[i] * arr2[i]\n",
    "    return sum"
   ]
  },
  {
   "cell_type": "code",
   "execution_count": 9,
   "metadata": {},
   "outputs": [
    {
     "name": "stdout",
     "output_type": "stream",
     "text": [
      "0.0\n",
      "0.193013215868\n",
      "0.0\n"
     ]
    }
   ],
   "source": [
    "print(dot(weights[0], weights[1]))\n",
    "print(dot(weights[0], weights[2]))\n",
    "print(dot(weights[0], weights[3]))"
   ]
  },
  {
   "cell_type": "markdown",
   "metadata": {},
   "source": [
    "### Cosine Similarity\n",
    "\n",
    "Let's define cosine similarity function for two vectors.\n",
    "\n",
    "$$ cosine(u, v)=\\frac{dot(u,v)}{norm2(u)norm2(v)}=\\frac{u\\cdot v}{||u||_2||v||_2} $$"
   ]
  },
  {
   "cell_type": "code",
   "execution_count": 10,
   "metadata": {
    "collapsed": true
   },
   "outputs": [],
   "source": [
    "def cosine(arr1, arr2):\n",
    "    return dot(arr1, arr2)/(norm2(arr1)*norm2(arr2))"
   ]
  },
  {
   "cell_type": "code",
   "execution_count": 11,
   "metadata": {},
   "outputs": [
    {
     "name": "stdout",
     "output_type": "stream",
     "text": [
      "0.0\n",
      "0.707106781187\n",
      "0.0\n"
     ]
    }
   ],
   "source": [
    "print(cosine(weights[0], weights[1]))\n",
    "print(cosine(weights[0], weights[2]))\n",
    "print(cosine(weights[0], weights[3]))"
   ]
  },
  {
   "cell_type": "markdown",
   "metadata": {},
   "source": [
    "# Easy Computation using `numpy`\n",
    "Let's do this in a more convenient way with *numpy's linalg*"
   ]
  },
  {
   "cell_type": "code",
   "execution_count": 12,
   "metadata": {
    "collapsed": true
   },
   "outputs": [],
   "source": [
    "from numpy import linalg as LA"
   ]
  },
  {
   "cell_type": "markdown",
   "metadata": {},
   "source": [
    "Compute norms and save it to **`norms`**."
   ]
  },
  {
   "cell_type": "code",
   "execution_count": 13,
   "metadata": {},
   "outputs": [
    {
     "data": {
      "text/plain": [
       "array([ 0.44,  1.28,  0.62,  0.74,  0.34,  0.56,  0.44,  0.56,  1.65,  0.82,  0.71])"
      ]
     },
     "execution_count": 13,
     "metadata": {},
     "output_type": "execute_result"
    }
   ],
   "source": [
    "norms = LA.norm(weights, ord=2, axis=1)\n",
    "norms"
   ]
  },
  {
   "cell_type": "markdown",
   "metadata": {},
   "source": [
    "Compute inner products among all items. "
   ]
  },
  {
   "cell_type": "code",
   "execution_count": 14,
   "metadata": {},
   "outputs": [
    {
     "data": {
      "text/plain": [
       "array([[ 0.19,  0.  ,  0.19,  0.  ,  0.  ,  0.  ,  0.19,  0.  ,  0.  ,  0.  ,  0.19],\n",
       "       [ 0.  ,  1.64,  0.  ,  0.55,  0.  ,  0.  ,  0.  ,  0.  ,  0.55,  0.55,  0.  ],\n",
       "       [ 0.19,  0.  ,  0.39,  0.  ,  0.  ,  0.19,  0.19,  0.19,  0.  ,  0.  ,  0.39],\n",
       "       [ 0.  ,  0.55,  0.  ,  0.55,  0.  ,  0.  ,  0.  ,  0.  ,  0.  ,  0.  ,  0.  ],\n",
       "       [ 0.  ,  0.  ,  0.  ,  0.  ,  0.12,  0.12,  0.  ,  0.12,  0.  ,  0.12,  0.12],\n",
       "       [ 0.  ,  0.  ,  0.19,  0.  ,  0.12,  0.31,  0.  ,  0.31,  0.  ,  0.12,  0.31],\n",
       "       [ 0.19,  0.  ,  0.19,  0.  ,  0.  ,  0.  ,  0.19,  0.  ,  0.  ,  0.  ,  0.19],\n",
       "       [ 0.  ,  0.  ,  0.19,  0.  ,  0.12,  0.31,  0.  ,  0.31,  0.  ,  0.12,  0.31],\n",
       "       [ 0.  ,  0.55,  0.  ,  0.  ,  0.  ,  0.  ,  0.  ,  0.  ,  2.72,  0.  ,  0.  ],\n",
       "       [ 0.  ,  0.55,  0.  ,  0.  ,  0.12,  0.12,  0.  ,  0.12,  0.  ,  0.67,  0.12],\n",
       "       [ 0.19,  0.  ,  0.39,  0.  ,  0.12,  0.31,  0.19,  0.31,  0.  ,  0.12,  0.5 ]])"
      ]
     },
     "execution_count": 14,
     "metadata": {},
     "output_type": "execute_result"
    }
   ],
   "source": [
    "dots = np.matmul(weights, weights.T)\n",
    "dots"
   ]
  },
  {
   "cell_type": "code",
   "execution_count": 15,
   "metadata": {},
   "outputs": [
    {
     "data": {
      "text/plain": [
       "array([[ 1.  ,  0.  ,  0.71,  0.  ,  0.  ,  0.  ,  1.  ,  0.  ,  0.  ,  0.  ,  0.62],\n",
       "       [ 0.  ,  1.  ,  0.  ,  0.58,  0.  ,  0.  ,  0.  ,  0.  ,  0.26,  0.52,  0.  ],\n",
       "       [ 0.71,  0.  ,  1.  ,  0.  ,  0.  ,  0.56,  0.71,  0.56,  0.  ,  0.  ,  0.88],\n",
       "       [ 0.  ,  0.58,  0.  ,  1.  ,  0.  ,  0.  ,  0.  ,  0.  ,  0.  ,  0.  ,  0.  ],\n",
       "       [ 0.  ,  0.  ,  0.  ,  0.  ,  1.  ,  0.61,  0.  ,  0.61,  0.  ,  0.42,  0.48],\n",
       "       [ 0.  ,  0.  ,  0.56,  0.  ,  0.61,  1.  ,  0.  ,  1.  ,  0.  ,  0.26,  0.79],\n",
       "       [ 1.  ,  0.  ,  0.71,  0.  ,  0.  ,  0.  ,  1.  ,  0.  ,  0.  ,  0.  ,  0.62],\n",
       "       [ 0.  ,  0.  ,  0.56,  0.  ,  0.61,  1.  ,  0.  ,  1.  ,  0.  ,  0.26,  0.79],\n",
       "       [ 0.  ,  0.26,  0.  ,  0.  ,  0.  ,  0.  ,  0.  ,  0.  ,  1.  ,  0.  ,  0.  ],\n",
       "       [ 0.  ,  0.52,  0.  ,  0.  ,  0.42,  0.26,  0.  ,  0.26,  0.  ,  1.  ,  0.2 ],\n",
       "       [ 0.62,  0.  ,  0.88,  0.  ,  0.48,  0.79,  0.62,  0.79,  0.  ,  0.2 ,  1.  ]])"
      ]
     },
     "execution_count": 15,
     "metadata": {},
     "output_type": "execute_result"
    }
   ],
   "source": [
    "sims = np.divide(np.divide(dots, norms).T, norms)\n",
    "sims"
   ]
  },
  {
   "cell_type": "code",
   "execution_count": 16,
   "metadata": {},
   "outputs": [
    {
     "data": {
      "text/plain": [
       "array([ 1.  ,  0.  ,  0.71,  0.  ,  0.  ,  0.  ,  1.  ,  0.  ,  0.  ,  0.  ,  0.62])"
      ]
     },
     "execution_count": 16,
     "metadata": {},
     "output_type": "execute_result"
    }
   ],
   "source": [
    "sims[0]"
   ]
  }
 ],
 "metadata": {
  "kernelspec": {
   "display_name": "Python 3",
   "language": "python",
   "name": "python3"
  },
  "language_info": {
   "codemirror_mode": {
    "name": "ipython",
    "version": 3
   },
   "file_extension": ".py",
   "mimetype": "text/x-python",
   "name": "python",
   "nbconvert_exporter": "python",
   "pygments_lexer": "ipython3",
   "version": "3.6.2"
  }
 },
 "nbformat": 4,
 "nbformat_minor": 2
}
